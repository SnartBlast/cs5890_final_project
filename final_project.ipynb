{
 "cells": [
  {
   "cell_type": "code",
   "execution_count": 1,
   "id": "88fd8e40-deb4-44a2-8237-ecc1a85458da",
   "metadata": {},
   "outputs": [
    {
     "data": {
      "text/plain": [
       "'  One Bedroom Avg -> 173162.42'"
      ]
     },
     "metadata": {},
     "output_type": "display_data"
    },
    {
     "data": {
      "text/plain": [
       "'  Two Bedroom Avg -> 158197.65921787708'"
      ]
     },
     "metadata": {},
     "output_type": "display_data"
    },
    {
     "data": {
      "text/plain": [
       "'Three Bedroom Avg -> 181056.87064676618'"
      ]
     },
     "metadata": {},
     "output_type": "display_data"
    },
    {
     "data": {
      "text/plain": [
       "' Four Bedroom Avg -> 220421.25352112675'"
      ]
     },
     "metadata": {},
     "output_type": "display_data"
    },
    {
     "data": {
      "text/plain": [
       "' Five Bedroom Avg -> 180819.04761904763'"
      ]
     },
     "metadata": {},
     "output_type": "display_data"
    },
    {
     "data": {
      "text/plain": [
       "'-----------------------------------------------'"
      ]
     },
     "metadata": {},
     "output_type": "display_data"
    },
    {
     "data": {
      "text/plain": [
       "' Lot Area (0,        5000) -> 143150.87074829932'"
      ]
     },
     "metadata": {},
     "output_type": "display_data"
    },
    {
     "data": {
      "text/plain": [
       "' Lot Area (5000,   10,000) -> 156124.32571428572'"
      ]
     },
     "metadata": {},
     "output_type": "display_data"
    },
    {
     "data": {
      "text/plain": [
       "' Lot Area (10,000, 15,000) -> 210462.3133732535'"
      ]
     },
     "metadata": {},
     "output_type": "display_data"
    },
    {
     "data": {
      "text/plain": [
       "' Lot Area (15,000, 20,000) -> 236546.78260869565'"
      ]
     },
     "metadata": {},
     "output_type": "display_data"
    },
    {
     "data": {
      "text/plain": [
       "' Lot Area (20,000, 30,000) -> 240566.74193548388'"
      ]
     },
     "metadata": {},
     "output_type": "display_data"
    },
    {
     "data": {
      "text/plain": [
       "' Lot Area (30,000, 40,000) -> 246478.0'"
      ]
     },
     "metadata": {},
     "output_type": "display_data"
    },
    {
     "data": {
      "text/plain": [
       "' Lot Area (40,000, 50,000) -> 275583.3333333333'"
      ]
     },
     "metadata": {},
     "output_type": "display_data"
    },
    {
     "data": {
      "text/plain": [
       "' Lot Area (50,000, 75,000) -> 288428.5714285714'"
      ]
     },
     "metadata": {},
     "output_type": "display_data"
    },
    {
     "data": {
      "text/plain": [
       "' Lot Area (75,000, 100,000) -> nan'"
      ]
     },
     "metadata": {},
     "output_type": "display_data"
    },
    {
     "data": {
      "text/plain": [
       "'-----------------------------------------------'"
      ]
     },
     "metadata": {},
     "output_type": "display_data"
    },
    {
     "data": {
      "text/plain": [
       "'  One Bathroom Avg -> 134751.44'"
      ]
     },
     "metadata": {},
     "output_type": "display_data"
    },
    {
     "data": {
      "text/plain": [
       "'  Two Bathroom Avg -> 213009.82552083334'"
      ]
     },
     "metadata": {},
     "output_type": "display_data"
    },
    {
     "data": {
      "text/plain": [
       "'Three Bathroom Avg -> 347822.9090909091'"
      ]
     },
     "metadata": {},
     "output_type": "display_data"
    },
    {
     "data": {
      "text/plain": [
       "' Four Bathroom Avg -> nan'"
      ]
     },
     "metadata": {},
     "output_type": "display_data"
    },
    {
     "data": {
      "text/plain": [
       "' Five Bathroom Avg -> nan'"
      ]
     },
     "metadata": {},
     "output_type": "display_data"
    },
    {
     "data": {
      "text/plain": [
       "'-----------------------------------------------'"
      ]
     },
     "metadata": {},
     "output_type": "display_data"
    },
    {
     "data": {
      "text/plain": [
       "' Year Built (1800, 1900) -> 153272.2'"
      ]
     },
     "metadata": {},
     "output_type": "display_data"
    },
    {
     "data": {
      "text/plain": [
       "' Year Built (1900, 1925) -> 126570.89795918367'"
      ]
     },
     "metadata": {},
     "output_type": "display_data"
    },
    {
     "data": {
      "text/plain": [
       "' Year Built (1925, 1950) -> 132169.484375'"
      ]
     },
     "metadata": {},
     "output_type": "display_data"
    },
    {
     "data": {
      "text/plain": [
       "' Year Built (1950, 1960) -> 142840.25543478262'"
      ]
     },
     "metadata": {},
     "output_type": "display_data"
    },
    {
     "data": {
      "text/plain": [
       "' Year Built (1960, 1970) -> 151536.49246231155'"
      ]
     },
     "metadata": {},
     "output_type": "display_data"
    },
    {
     "data": {
      "text/plain": [
       "' Year Built (1970, 1980) -> 153432.96464646465'"
      ]
     },
     "metadata": {},
     "output_type": "display_data"
    },
    {
     "data": {
      "text/plain": [
       "' Year Built (1980, 1990) -> 195143.56164383562'"
      ]
     },
     "metadata": {},
     "output_type": "display_data"
    },
    {
     "data": {
      "text/plain": [
       "' Year Built (1990, 2000) -> 226140.57754010695'"
      ]
     },
     "metadata": {},
     "output_type": "display_data"
    },
    {
     "data": {
      "text/plain": [
       "' Year Built (2000, 2010) -> 242439.162371134'"
      ]
     },
     "metadata": {},
     "output_type": "display_data"
    },
    {
     "data": {
      "text/plain": [
       "' Year Built (2010, 2020) -> 394432.0'"
      ]
     },
     "metadata": {},
     "output_type": "display_data"
    },
    {
     "data": {
      "text/plain": [
       "'-----------------------------------------------'"
      ]
     },
     "metadata": {},
     "output_type": "display_data"
    },
    {
     "data": {
      "text/plain": [
       "'  One Bathroom Avg -> 212721.96074766354'"
      ]
     },
     "metadata": {},
     "output_type": "display_data"
    },
    {
     "data": {
      "text/plain": [
       "'  Two Bathroom Avg -> 162028.91666666666'"
      ]
     },
     "metadata": {},
     "output_type": "display_data"
    },
    {
     "data": {
      "text/plain": [
       "'Three Bathroom Avg -> nan'"
      ]
     },
     "metadata": {},
     "output_type": "display_data"
    },
    {
     "data": {
      "text/plain": [
       "' Four Bathroom Avg -> nan'"
      ]
     },
     "metadata": {},
     "output_type": "display_data"
    },
    {
     "data": {
      "text/plain": [
       "' Five Bathroom Avg -> nan'"
      ]
     },
     "metadata": {},
     "output_type": "display_data"
    },
    {
     "data": {
      "text/plain": [
       "'-----------------------------------------------'"
      ]
     },
     "metadata": {},
     "output_type": "display_data"
    }
   ],
   "source": [
    "# Final Project\n",
    "# CS5890, Deep Learning\n",
    "# Kian Arnold, A02267479\n",
    "# Luke Arnold, A02368233\n",
    "import pandas as pd\n",
    "import numpy as np\n",
    "from sklearn.model_selection import train_test_split\n",
    "from sklearn.neighbors import NearestNeighbors\n",
    "from sklearn.metrics import precision_recall_fscore_support\n",
    "from scipy import stats\n",
    "import seaborn as sns\n",
    "import warnings\n",
    "warnings.filterwarnings('ignore')\n",
    "\n",
    "# ALL COLUMNS:\n",
    "# ---------------------------------------------------------------\n",
    "# Id, MSSubClass, MSZoning, LotFrontage, LotArea,\n",
    "# Street, Alley, LotShape, LandContour, Utilities,\n",
    "# LotConfig, LandSlope, Neighborhood, Condition1,\n",
    "# Condition2, BldgType, HouseStyle, OverallQual,\n",
    "# OverallCond, YearBuilt, YearRemodAdd, RoofStyle,\n",
    "# RoofMatl, Exterior1st, Exterior2nd, MasVnrType, MasVnrArea,\n",
    "# ExterQual, ExterCond, Foundation, BsmtQual, BsmtCond,\n",
    "# BsmtExposure, BsmtFinType1, BsmtFinSF1, BsmtFinType2, \n",
    "# BsmtFinSF2, BsmtUnfSF, TotalBsmtSF, Heating, \n",
    "# HeatingQC, CentralAir, Electrical, 1stFlrSF, \n",
    "# 2ndFlrSF, LowQualFinSF, GrLivArea, BsmtFullBath, \n",
    "# BsmtHalfBath, FullBath, HalfBath, BedroomAbvGr, \n",
    "# KitchenAbvGr, KitchenQual, TotRmsAbvGrd, Functional, \n",
    "# Fireplaces, FireplaceQu, GarageType, GarageYrBlt, \n",
    "# GarageFinish, GarageCars, GarageArea, GarageQual, \n",
    "# GarageCond, PavedDrive, WoodDeckSF, OpenPorchSF, \n",
    "# EnclosedPorch, 3SsnPorch, ScreenPorch, PoolArea, \n",
    "# PoolQC, Fence, MiscFeature, MiscVal, MoSold, YrSold,\n",
    "# SaleType, SaleCondition, SalePrice\n",
    "# ---------------------------------------------------------------\n",
    "# HYPOTHESIZED COLUMNS MOST LIKELY TO AFFECT PRICE\n",
    "# LotArea\n",
    "# YearBuilt\n",
    "# BsmtFullBath\n",
    "# BsmtHalfBath\n",
    "# FullBath\n",
    "# HalfBath\n",
    "# BedroomAbvGr\n",
    "\n",
    "# read in dataframe\n",
    "houses = pd.read_csv('data/train.csv', sep=',')\n",
    "\n",
    "# get averages for features\n",
    "one_bedroom = houses[houses['BedroomAbvGr'] == 1].SalePrice.mean()\n",
    "two_bedroom = houses[houses['BedroomAbvGr'] == 2].SalePrice.mean()\n",
    "three_bedroom = houses[houses['BedroomAbvGr'] == 3].SalePrice.mean()\n",
    "four_bedroom = houses[houses['BedroomAbvGr'] == 4].SalePrice.mean()\n",
    "five_bedroom = houses[houses['BedroomAbvGr'] == 5].SalePrice.mean()\n",
    "display(f'  One Bedroom Avg -> {one_bedroom}')\n",
    "display(f'  Two Bedroom Avg -> {two_bedroom}')\n",
    "display(f'Three Bedroom Avg -> {three_bedroom}')\n",
    "display(f' Four Bedroom Avg -> {four_bedroom}')\n",
    "display(f' Five Bedroom Avg -> {five_bedroom}')\n",
    "display('-----------------------------------------------')\n",
    "lot_area_0 = houses[houses['LotArea'].between(0, 5000)].SalePrice.mean()\n",
    "lot_area_1 = houses[houses['LotArea'].between(5000, 10000)].SalePrice.mean()\n",
    "lot_area_2 = houses[houses['LotArea'].between(10000, 15000)].SalePrice.mean()\n",
    "lot_area_3 = houses[houses['LotArea'].between(15000, 20000)].SalePrice.mean()\n",
    "lot_area_4 = houses[houses['LotArea'].between(20000, 30000)].SalePrice.mean()\n",
    "lot_area_5 = houses[houses['LotArea'].between(30000, 40000)].SalePrice.mean()\n",
    "lot_area_6 = houses[houses['LotArea'].between(40000, 50000)].SalePrice.mean()\n",
    "lot_area_7 = houses[houses['LotArea'].between(50000, 75000)].SalePrice.mean()\n",
    "lot_area_8 = houses[houses['LotArea'].between(75000, 100000)].SalePrice.mean()\n",
    "display(f' Lot Area (0,        5000) -> {lot_area_0}')\n",
    "display(f' Lot Area (5000,   10,000) -> {lot_area_1}')\n",
    "display(f' Lot Area (10,000, 15,000) -> {lot_area_2}')\n",
    "display(f' Lot Area (15,000, 20,000) -> {lot_area_3}')\n",
    "display(f' Lot Area (20,000, 30,000) -> {lot_area_4}')\n",
    "display(f' Lot Area (30,000, 40,000) -> {lot_area_5}')\n",
    "display(f' Lot Area (40,000, 50,000) -> {lot_area_6}')\n",
    "display(f' Lot Area (50,000, 75,000) -> {lot_area_7}')\n",
    "display(f' Lot Area (75,000, 100,000) -> {lot_area_8}')\n",
    "display('-----------------------------------------------')\n",
    "one_bathroom = houses[houses['FullBath'] == 1].SalePrice.mean()\n",
    "two_bathroom = houses[houses['FullBath'] == 2].SalePrice.mean()\n",
    "three_bathroom = houses[houses['FullBath'] == 3].SalePrice.mean()\n",
    "four_bathroom = houses[houses['FullBath'] == 4].SalePrice.mean()\n",
    "five_bathroom = houses[houses['FullBath'] == 5].SalePrice.mean()\n",
    "display(f'  One Bathroom Avg -> {one_bathroom}')\n",
    "display(f'  Two Bathroom Avg -> {two_bathroom}')\n",
    "display(f'Three Bathroom Avg -> {three_bathroom}')\n",
    "display(f' Four Bathroom Avg -> {four_bathroom}')\n",
    "display(f' Five Bathroom Avg -> {five_bathroom}')\n",
    "display('-----------------------------------------------')\n",
    "year_built_0 = houses[houses['YearBuilt'].between(1800, 1900)].SalePrice.mean()\n",
    "year_built_1 = houses[houses['YearBuilt'].between(1900, 1925)].SalePrice.mean()\n",
    "year_built_2 = houses[houses['YearBuilt'].between(1925, 1950)].SalePrice.mean()\n",
    "year_built_3 = houses[houses['YearBuilt'].between(1950, 1960)].SalePrice.mean()\n",
    "year_built_4 = houses[houses['YearBuilt'].between(1960, 1970)].SalePrice.mean()\n",
    "year_built_5 = houses[houses['YearBuilt'].between(1970, 1980)].SalePrice.mean()\n",
    "year_built_6 = houses[houses['YearBuilt'].between(1980, 1990)].SalePrice.mean()\n",
    "year_built_7 = houses[houses['YearBuilt'].between(1990, 2000)].SalePrice.mean()\n",
    "year_built_8 = houses[houses['YearBuilt'].between(2000, 2010)].SalePrice.mean()\n",
    "year_built_9 = houses[houses['YearBuilt'].between(2010, 2020)].SalePrice.mean()\n",
    "display(f' Year Built (1800, 1900) -> {year_built_0}')\n",
    "display(f' Year Built (1900, 1925) -> {year_built_1}')\n",
    "display(f' Year Built (1925, 1950) -> {year_built_2}')\n",
    "display(f' Year Built (1950, 1960) -> {year_built_3}')\n",
    "display(f' Year Built (1960, 1970) -> {year_built_4}')\n",
    "display(f' Year Built (1970, 1980) -> {year_built_5}')\n",
    "display(f' Year Built (1980, 1990) -> {year_built_6}')\n",
    "display(f' Year Built (1990, 2000) -> {year_built_7}')\n",
    "display(f' Year Built (2000, 2010) -> {year_built_8}')\n",
    "display(f' Year Built (2010, 2020) -> {year_built_9}')\n",
    "display('-----------------------------------------------')\n",
    "one_bathroom = houses[houses['HalfBath'] == 1].SalePrice.mean()\n",
    "two_bathroom = houses[houses['HalfBath'] == 2].SalePrice.mean()\n",
    "three_bathroom = houses[houses['HalfBath'] == 3].SalePrice.mean()\n",
    "four_bathroom = houses[houses['HalfBath'] == 4].SalePrice.mean()\n",
    "five_bathroom = houses[houses['HalfBath'] == 5].SalePrice.mean()\n",
    "display(f'  One Bathroom Avg -> {one_bathroom}')\n",
    "display(f'  Two Bathroom Avg -> {two_bathroom}')\n",
    "display(f'Three Bathroom Avg -> {three_bathroom}')\n",
    "display(f' Four Bathroom Avg -> {four_bathroom}')\n",
    "display(f' Five Bathroom Avg -> {five_bathroom}')\n",
    "display('-----------------------------------------------')"
   ]
  },
  {
   "cell_type": "code",
   "execution_count": 2,
   "id": "6a078f5d-72e0-446e-ba28-1c83be3b62b2",
   "metadata": {},
   "outputs": [
    {
     "data": {
      "text/plain": [
       "'House Price Mean   -> 180921.19589041095'"
      ]
     },
     "metadata": {},
     "output_type": "display_data"
    },
    {
     "data": {
      "text/plain": [
       "'House Price Median -> 163000.0'"
      ]
     },
     "metadata": {},
     "output_type": "display_data"
    },
    {
     "data": {
      "text/plain": [
       "'House Price Mode   -> 0    140000\\nName: SalePrice, dtype: int64'"
      ]
     },
     "metadata": {},
     "output_type": "display_data"
    }
   ],
   "source": [
    "# get data usefulf or comparison \n",
    "display(f'House Price Mean   -> {houses.SalePrice.mean()}')\n",
    "display(f'House Price Median -> {houses.SalePrice.median()}')\n",
    "display(f'House Price Mode   -> {houses.SalePrice.mode()}')\n",
    "\n",
    "# augment dataframe with binary classifiers for 'SalePrice' variable\n",
    "house = houses[['LotArea', 'YearBuilt', 'BsmtFullBath', 'BsmtHalfBath', 'FullBath', 'HalfBath', 'BedroomAbvGr', 'SalePrice']]\n",
    "house['price'] = np.where(house['SalePrice'] < house.SalePrice.median(), 0, 1) # collapse values in column\n",
    "\n",
    "# standardize data\n",
    "#house['LotArea'] = (house.LotArea - house.LotArea.mean()) / house.LotArea.std()\n",
    "#house['YearBuilt'] = (house.YearBuilt - house.YearBuilt.mean()) / house.YearBuilt.std()\n",
    "#house['BsmtFullBath'] = (house.BsmtFullBath - house.BsmtFullBath.mean()) / house.BsmtFullBath.std()\n",
    "#house['BsmtHalfBath'] = (house.BsmtHalfBath - house.BsmtHalfBath.mean()) / house.BsmtHalfBath.std()\n",
    "#house['FullBath'] = (house.FullBath - house.FullBath.mean()) / house.FullBath.std()\n",
    "#house['HalfBath'] = (house.HalfBath - house.HalfBath.mean()) / house.HalfBath.std()\n",
    "#house['BedroomAbvGr'] = (house.BedroomAbvGr - house.BedroomAbvGr.mean()) / house.BedroomAbvGr.std()"
   ]
  },
  {
   "cell_type": "code",
   "execution_count": 3,
   "id": "6e6effee-970a-4c05-a5e0-bc29050a2cf6",
   "metadata": {},
   "outputs": [
    {
     "data": {
      "text/plain": [
       "'Precision -> 0.3951965065502183'"
      ]
     },
     "metadata": {},
     "output_type": "display_data"
    },
    {
     "data": {
      "text/plain": [
       "'   Recall -> 0.49453551912568305'"
      ]
     },
     "metadata": {},
     "output_type": "display_data"
    },
    {
     "data": {
      "text/plain": [
       "'       F1 -> 0.4393203883495146'"
      ]
     },
     "metadata": {},
     "output_type": "display_data"
    }
   ],
   "source": [
    "# perform knn\n",
    "houseX = house[['LotArea','BsmtFullBath']].values\n",
    "houseY = house[['price']].values\n",
    "\n",
    "# do train test split \n",
    "X_train, X_test, y_train, y_test = train_test_split(houseX, houseY, test_size = 0.4)\n",
    "nn = NearestNeighbors(n_neighbors=5, metric='euclidean', algorithm='auto')\n",
    "fit = nn.fit(houseX)\n",
    "distances, indices = fit.kneighbors(houseX)\n",
    "\n",
    "# do predictions\n",
    "y_pred = []\n",
    "for i in range(len(houseX)):\n",
    "    nbrs = house.iloc[indices[i]]\n",
    "    nbrs = nbrs.drop(house.index[i], errors='ignore')\n",
    "    cheap = nbrs[nbrs.price == 0].count().price\n",
    "    expensive = nbrs[nbrs.price == 1].count().price\n",
    "    predict = 0 if (expensive > cheap) else 1\n",
    "    y_pred.append(predict)   \n",
    "\n",
    "# display results\n",
    "(p, r, f, s) = precision_recall_fscore_support(houseY, y_pred, labels=[1])\n",
    "display(f'Precision -> {p[0]}')\n",
    "display(f'   Recall -> {r[0]}')\n",
    "display(f'       F1 -> {f[0]}')\n",
    "\n",
    "# LOT AREA\n",
    "# Precision -> 0.4018 \n",
    "#    Recall -> 0.4973\n",
    "#        F1 -> 0.4444\n",
    "#\n",
    "# YEAR BUILT\n",
    "# Precision -> 0.2428\n",
    "#    Recall -> 0.2650 \n",
    "#        F1 -> 0.2534 \n",
    "#\n",
    "# BASEMENT FULL BATH\n",
    "# Precision -> 0.4503\n",
    "#    Recall -> 0.5383\n",
    "#        F1 -> 0.4904\n",
    "#\n",
    "# BASEMENT HALF BATH \n",
    "# Precision -> 0.8750\n",
    "#    Recall -> 0.0096 \n",
    "#        F1 -> 0.0189   \n",
    "#\n",
    "# FULL BATH\n",
    "# Precision -> 0.1562 \n",
    "#    Recall -> 0.1393 \n",
    "#        F1 -> 0.1473\n",
    "#\n",
    "# HALF BATH          \n",
    "# Precision -> 1.0\n",
    "#    Recall -> 0.0123\n",
    "#        F1 -> 0.0243\n",
    "#\n",
    "# BEDROOMS "
   ]
  },
  {
   "cell_type": "code",
   "execution_count": 6,
   "id": "ec0acbe6-90c0-434d-9d50-547e2dd44742",
   "metadata": {},
   "outputs": [
    {
     "data": {
      "image/png": "[encoded data removed]",
      "text/plain": [
       "<Figure size 640x480 with 1 Axes>"
      ]
     },
     "metadata": {},
     "output_type": "display_data"
    }
   ],
   "source": [
    "# use linear regression to detect correlation between saleprice and variable\n",
    "#plot0 = sns.regplot(x='LotArea', y='SalePrice', data=house, scatter_kws={\"color\": \"black\"}, line_kws={\"color\": \"yellow\"})\n",
    "#plot1 = sns.regplot(x='YearBuilt', y='SalePrice', data=house, scatter_kws={\"color\": \"black\"}, line_kws={\"color\": \"yellow\"})\n",
    "#plot2 = sns.regplot(x='BsmtFullBath', y='SalePrice', data=house, scatter_kws={\"color\": \"black\"}, line_kws={\"color\": \"black\"})\n",
    "#plot3 = sns.regplot(x='BsmtHalfBath', y='SalePrice', data=house, scatter_kws={\"color\": \"black\"}, line_kws={\"color\": \"black\"})\n",
    "#plot4 = sns.regplot(x='FullBath', y='SalePrice', data=house, scatter_kws={\"color\": \"black\"}, line_kws={\"color\": \"yellow\"})\n",
    "#plot5 = sns.regplot(x='HalfBath', y='SalePrice', data=house, scatter_kws={\"color\": \"black\"}, line_kws={\"color\": \"black\"})\n",
    "plot5 = sns.regplot(x='BedroomAbvGr', y='SalePrice', data=house, scatter_kws={\"color\": \"black\"}, line_kws={\"color\": \"yellow\"})"
   ]
  },
  {
   "cell_type": "code",
   "execution_count": 5,
   "id": "48615e00-396a-43b8-99a2-ffda3f217b2f",
   "metadata": {},
   "outputs": [
    {
     "data": {
      "text/plain": [
       "78.58835616438355"
      ]
     },
     "metadata": {},
     "output_type": "display_data"
    },
    {
     "data": {
      "text/plain": [
       "56449859"
      ]
     },
     "metadata": {},
     "output_type": "display_data"
    },
    {
     "data": {
      "text/html": [
       "<div>\n",
       "<style scoped>\n",
       "    .dataframe tbody tr th:only-of-type {\n",
       "        vertical-align: middle;\n",
       "    }\n",
       "\n",
       "    .dataframe tbody tr th {\n",
       "        vertical-align: top;\n",
       "    }\n",
       "\n",
       "    .dataframe thead th {\n",
       "        text-align: right;\n",
       "    }\n",
       "</style>\n",
       "<table border=\"1\" class=\"dataframe\">\n",
       "  <thead>\n",
       "    <tr style=\"text-align: right;\">\n",
       "      <th></th>\n",
       "      <th>OverallCond</th>\n",
       "      <th>LotArea</th>\n",
       "      <th>YearBuilt</th>\n",
       "      <th>BsmtFullBath</th>\n",
       "      <th>BsmtHalfBath</th>\n",
       "      <th>FullBath</th>\n",
       "      <th>HalfBath</th>\n",
       "      <th>BedroomAbvGr</th>\n",
       "      <th>SalePrice</th>\n",
       "      <th>predict</th>\n",
       "      <th>dif</th>\n",
       "    </tr>\n",
       "  </thead>\n",
       "  <tbody>\n",
       "    <tr>\n",
       "      <th>0</th>\n",
       "      <td>5</td>\n",
       "      <td>8450</td>\n",
       "      <td>2003</td>\n",
       "      <td>1</td>\n",
       "      <td>0</td>\n",
       "      <td>2</td>\n",
       "      <td>1</td>\n",
       "      <td>3</td>\n",
       "      <td>208500</td>\n",
       "      <td>222600</td>\n",
       "      <td>-14100</td>\n",
       "    </tr>\n",
       "    <tr>\n",
       "      <th>1</th>\n",
       "      <td>8</td>\n",
       "      <td>9600</td>\n",
       "      <td>1976</td>\n",
       "      <td>0</td>\n",
       "      <td>1</td>\n",
       "      <td>2</td>\n",
       "      <td>0</td>\n",
       "      <td>3</td>\n",
       "      <td>181500</td>\n",
       "      <td>183050</td>\n",
       "      <td>-1550</td>\n",
       "    </tr>\n",
       "    <tr>\n",
       "      <th>2</th>\n",
       "      <td>5</td>\n",
       "      <td>11250</td>\n",
       "      <td>2001</td>\n",
       "      <td>1</td>\n",
       "      <td>0</td>\n",
       "      <td>2</td>\n",
       "      <td>1</td>\n",
       "      <td>3</td>\n",
       "      <td>223500</td>\n",
       "      <td>230000</td>\n",
       "      <td>-6500</td>\n",
       "    </tr>\n",
       "    <tr>\n",
       "      <th>3</th>\n",
       "      <td>5</td>\n",
       "      <td>9550</td>\n",
       "      <td>1915</td>\n",
       "      <td>1</td>\n",
       "      <td>0</td>\n",
       "      <td>1</td>\n",
       "      <td>0</td>\n",
       "      <td>3</td>\n",
       "      <td>140000</td>\n",
       "      <td>121900</td>\n",
       "      <td>18100</td>\n",
       "    </tr>\n",
       "    <tr>\n",
       "      <th>4</th>\n",
       "      <td>5</td>\n",
       "      <td>14260</td>\n",
       "      <td>2000</td>\n",
       "      <td>1</td>\n",
       "      <td>0</td>\n",
       "      <td>2</td>\n",
       "      <td>1</td>\n",
       "      <td>4</td>\n",
       "      <td>250000</td>\n",
       "      <td>243530</td>\n",
       "      <td>6470</td>\n",
       "    </tr>\n",
       "    <tr>\n",
       "      <th>...</th>\n",
       "      <td>...</td>\n",
       "      <td>...</td>\n",
       "      <td>...</td>\n",
       "      <td>...</td>\n",
       "      <td>...</td>\n",
       "      <td>...</td>\n",
       "      <td>...</td>\n",
       "      <td>...</td>\n",
       "      <td>...</td>\n",
       "      <td>...</td>\n",
       "      <td>...</td>\n",
       "    </tr>\n",
       "    <tr>\n",
       "      <th>1455</th>\n",
       "      <td>5</td>\n",
       "      <td>7917</td>\n",
       "      <td>1999</td>\n",
       "      <td>0</td>\n",
       "      <td>0</td>\n",
       "      <td>2</td>\n",
       "      <td>1</td>\n",
       "      <td>3</td>\n",
       "      <td>175000</td>\n",
       "      <td>214001</td>\n",
       "      <td>-39001</td>\n",
       "    </tr>\n",
       "    <tr>\n",
       "      <th>1456</th>\n",
       "      <td>6</td>\n",
       "      <td>13175</td>\n",
       "      <td>1978</td>\n",
       "      <td>1</td>\n",
       "      <td>0</td>\n",
       "      <td>2</td>\n",
       "      <td>0</td>\n",
       "      <td>3</td>\n",
       "      <td>210000</td>\n",
       "      <td>214775</td>\n",
       "      <td>-4775</td>\n",
       "    </tr>\n",
       "    <tr>\n",
       "      <th>1457</th>\n",
       "      <td>9</td>\n",
       "      <td>9042</td>\n",
       "      <td>1941</td>\n",
       "      <td>0</td>\n",
       "      <td>0</td>\n",
       "      <td>2</td>\n",
       "      <td>0</td>\n",
       "      <td>4</td>\n",
       "      <td>266500</td>\n",
       "      <td>185376</td>\n",
       "      <td>81124</td>\n",
       "    </tr>\n",
       "    <tr>\n",
       "      <th>1458</th>\n",
       "      <td>6</td>\n",
       "      <td>9717</td>\n",
       "      <td>1950</td>\n",
       "      <td>1</td>\n",
       "      <td>0</td>\n",
       "      <td>1</td>\n",
       "      <td>0</td>\n",
       "      <td>2</td>\n",
       "      <td>142125</td>\n",
       "      <td>135401</td>\n",
       "      <td>6724</td>\n",
       "    </tr>\n",
       "    <tr>\n",
       "      <th>1459</th>\n",
       "      <td>6</td>\n",
       "      <td>9937</td>\n",
       "      <td>1965</td>\n",
       "      <td>1</td>\n",
       "      <td>0</td>\n",
       "      <td>1</td>\n",
       "      <td>1</td>\n",
       "      <td>3</td>\n",
       "      <td>147500</td>\n",
       "      <td>158561</td>\n",
       "      <td>-11061</td>\n",
       "    </tr>\n",
       "  </tbody>\n",
       "</table>\n",
       "<p>1460 rows × 11 columns</p>\n",
       "</div>"
      ],
      "text/plain": [
       "      OverallCond  LotArea  YearBuilt  BsmtFullBath  BsmtHalfBath  FullBath  \\\n",
       "0               5     8450       2003             1             0         2   \n",
       "1               8     9600       1976             0             1         2   \n",
       "2               5    11250       2001             1             0         2   \n",
       "3               5     9550       1915             1             0         1   \n",
       "4               5    14260       2000             1             0         2   \n",
       "...           ...      ...        ...           ...           ...       ...   \n",
       "1455            5     7917       1999             0             0         2   \n",
       "1456            6    13175       1978             1             0         2   \n",
       "1457            9     9042       1941             0             0         2   \n",
       "1458            6     9717       1950             1             0         1   \n",
       "1459            6     9937       1965             1             0         1   \n",
       "\n",
       "      HalfBath  BedroomAbvGr  SalePrice  predict    dif  \n",
       "0            1             3     208500   222600 -14100  \n",
       "1            0             3     181500   183050  -1550  \n",
       "2            1             3     223500   230000  -6500  \n",
       "3            0             3     140000   121900  18100  \n",
       "4            1             4     250000   243530   6470  \n",
       "...        ...           ...        ...      ...    ...  \n",
       "1455         1             3     175000   214001 -39001  \n",
       "1456         0             3     210000   214775  -4775  \n",
       "1457         0             4     266500   185376  81124  \n",
       "1458         0             2     142125   135401   6724  \n",
       "1459         1             3     147500   158561 -11061  \n",
       "\n",
       "[1460 rows x 11 columns]"
      ]
     },
     "metadata": {},
     "output_type": "display_data"
    }
   ],
   "source": [
    "# attempt to use multiple linear regression for predictive pricing\n",
    "#\n",
    "#           Lot Size -> 5,000 f^2 / $20,000 = $4 per square foot\n",
    "#         Year Built -> 10 yr / $12,000     = $1,200 per year after 1900\n",
    "# Bedroom Above Grnd -> 1 / $30,000         = $30,000 per bedroom \n",
    "# Basement Full Bath -> \n",
    "#          Full Bath -> 1 / $70,000         = $70,000 per full bathroom\n",
    "\n",
    "house = houses[['OverallCond', 'LotArea', 'YearBuilt', 'BsmtFullBath', 'BsmtHalfBath', 'FullBath', 'HalfBath', 'BedroomAbvGr', 'SalePrice']]\n",
    "\n",
    "house['predict'] = 13250\n",
    "house['predict'] = house.predict + (house.LotArea * 3)\n",
    "house['predict'] = house.predict + (house.OverallCond * 500)\n",
    "house['predict'] = house.predict + ((house.YearBuilt - 1900) * 500)\n",
    "house['predict'] = house.predict + (house.BsmtFullBath * 5000)\n",
    "house['predict'] = house.predict + (house.BsmtHalfBath * -16000)\n",
    "house['predict'] = house.predict + (house.FullBath * 50000)\n",
    "house['predict'] = house.predict + (house.HalfBath * 10000)\n",
    "house['predict'] = house.predict + (house.BedroomAbvGr * 5000)\n",
    "\n",
    "# determine closeness\n",
    "house['dif'] = house.SalePrice - house.predict\n",
    "display(house.dif.mean())\n",
    "display(abs(house.dif).sum())\n",
    "\n",
    "\n",
    "display(house)\n",
    "#display(max(house.dif))"
   ]
  },
  {
   "cell_type": "code",
   "execution_count": null,
   "id": "6328dc75-546c-45de-b74e-296db6b367c4",
   "metadata": {},
   "outputs": [],
   "source": []
  }
 ],
 "metadata": {
  "kernelspec": {
   "display_name": "Python 3 (ipykernel)",
   "language": "python",
   "name": "python3"
  },
  "language_info": {
   "codemirror_mode": {
    "name": "ipython",
    "version": 3
   },
   "file_extension": ".py",
   "mimetype": "text/x-python",
   "name": "python",
   "nbconvert_exporter": "python",
   "pygments_lexer": "ipython3",
   "version": "3.11.2"
  }
 },
 "nbformat": 4,
 "nbformat_minor": 5
}
