{
 "cells": [
  {
   "cell_type": "code",
   "execution_count": 65,
   "id": "88fd8e40-deb4-44a2-8237-ecc1a85458da",
   "metadata": {},
   "outputs": [
    {
     "data": {
      "text/plain": [
       "'  One Bedroom Avg -> 173162.42'"
      ]
     },
     "metadata": {},
     "output_type": "display_data"
    },
    {
     "data": {
      "text/plain": [
       "'  Two Bedroom Avg -> 158197.65921787708'"
      ]
     },
     "metadata": {},
     "output_type": "display_data"
    },
    {
     "data": {
      "text/plain": [
       "'Three Bedroom Avg -> 181056.87064676618'"
      ]
     },
     "metadata": {},
     "output_type": "display_data"
    },
    {
     "data": {
      "text/plain": [
       "' Four Bedroom Avg -> 220421.25352112675'"
      ]
     },
     "metadata": {},
     "output_type": "display_data"
    },
    {
     "data": {
      "text/plain": [
       "' Five Bedroom Avg -> 180819.04761904763'"
      ]
     },
     "metadata": {},
     "output_type": "display_data"
    },
    {
     "data": {
      "text/plain": [
       "'-----------------------------------------------'"
      ]
     },
     "metadata": {},
     "output_type": "display_data"
    },
    {
     "data": {
      "text/plain": [
       "' Lot Area (0,        5000) -> 143150.87074829932'"
      ]
     },
     "metadata": {},
     "output_type": "display_data"
    },
    {
     "data": {
      "text/plain": [
       "' Lot Area (5000,   10,000) -> 156124.32571428572'"
      ]
     },
     "metadata": {},
     "output_type": "display_data"
    },
    {
     "data": {
      "text/plain": [
       "' Lot Area (10,000, 15,000) -> 210462.3133732535'"
      ]
     },
     "metadata": {},
     "output_type": "display_data"
    },
    {
     "data": {
      "text/plain": [
       "' Lot Area (15,000, 20,000) -> 236546.78260869565'"
      ]
     },
     "metadata": {},
     "output_type": "display_data"
    },
    {
     "data": {
      "text/plain": [
       "' Lot Area (20,000, 30,000) -> 240566.74193548388'"
      ]
     },
     "metadata": {},
     "output_type": "display_data"
    },
    {
     "data": {
      "text/plain": [
       "' Lot Area (30,000, 40,000) -> 246478.0'"
      ]
     },
     "metadata": {},
     "output_type": "display_data"
    },
    {
     "data": {
      "text/plain": [
       "' Lot Area (40,000, 50,000) -> 275583.3333333333'"
      ]
     },
     "metadata": {},
     "output_type": "display_data"
    },
    {
     "data": {
      "text/plain": [
       "' Lot Area (50,000, 75,000) -> 288428.5714285714'"
      ]
     },
     "metadata": {},
     "output_type": "display_data"
    },
    {
     "data": {
      "text/plain": [
       "' Lot Area (75,000, 100,000) -> nan'"
      ]
     },
     "metadata": {},
     "output_type": "display_data"
    },
    {
     "data": {
      "text/plain": [
       "'-----------------------------------------------'"
      ]
     },
     "metadata": {},
     "output_type": "display_data"
    },
    {
     "data": {
      "text/plain": [
       "'  One Bathroom Avg -> 134751.44'"
      ]
     },
     "metadata": {},
     "output_type": "display_data"
    },
    {
     "data": {
      "text/plain": [
       "'  Two Bathroom Avg -> 213009.82552083334'"
      ]
     },
     "metadata": {},
     "output_type": "display_data"
    },
    {
     "data": {
      "text/plain": [
       "'Three Bathroom Avg -> 347822.9090909091'"
      ]
     },
     "metadata": {},
     "output_type": "display_data"
    },
    {
     "data": {
      "text/plain": [
       "' Four Bathroom Avg -> nan'"
      ]
     },
     "metadata": {},
     "output_type": "display_data"
    },
    {
     "data": {
      "text/plain": [
       "' Five Bathroom Avg -> nan'"
      ]
     },
     "metadata": {},
     "output_type": "display_data"
    },
    {
     "data": {
      "text/plain": [
       "'-----------------------------------------------'"
      ]
     },
     "metadata": {},
     "output_type": "display_data"
    },
    {
     "data": {
      "text/plain": [
       "' Year Built (1800, 1900) -> 153272.2'"
      ]
     },
     "metadata": {},
     "output_type": "display_data"
    },
    {
     "data": {
      "text/plain": [
       "' Year Built (1900, 1925) -> 126570.89795918367'"
      ]
     },
     "metadata": {},
     "output_type": "display_data"
    },
    {
     "data": {
      "text/plain": [
       "' Year Built (1925, 1950) -> 132169.484375'"
      ]
     },
     "metadata": {},
     "output_type": "display_data"
    },
    {
     "data": {
      "text/plain": [
       "' Year Built (1950, 1960) -> 142840.25543478262'"
      ]
     },
     "metadata": {},
     "output_type": "display_data"
    },
    {
     "data": {
      "text/plain": [
       "' Year Built (1960, 1970) -> 151536.49246231155'"
      ]
     },
     "metadata": {},
     "output_type": "display_data"
    },
    {
     "data": {
      "text/plain": [
       "' Year Built (1970, 1980) -> 153432.96464646465'"
      ]
     },
     "metadata": {},
     "output_type": "display_data"
    },
    {
     "data": {
      "text/plain": [
       "' Year Built (1980, 1990) -> 195143.56164383562'"
      ]
     },
     "metadata": {},
     "output_type": "display_data"
    },
    {
     "data": {
      "text/plain": [
       "' Year Built (1990, 2000) -> 226140.57754010695'"
      ]
     },
     "metadata": {},
     "output_type": "display_data"
    },
    {
     "data": {
      "text/plain": [
       "' Year Built (2000, 2010) -> 242439.162371134'"
      ]
     },
     "metadata": {},
     "output_type": "display_data"
    },
    {
     "data": {
      "text/plain": [
       "' Year Built (2010, 2020) -> 394432.0'"
      ]
     },
     "metadata": {},
     "output_type": "display_data"
    }
   ],
   "source": [
    "# Final Project\n",
    "# CS5890, Deep Learning\n",
    "# Kian Arnold, A02267479\n",
    "# Luke Arnold, [LUKE FILL IN WITH A# HERE]\n",
    "\n",
    "import pandas as pd\n",
    "import numpy as np\n",
    "\n",
    "# ALL COLUMNS:\n",
    "# ---------------------------------------------------------------\n",
    "# Id, MSSubClass, MSZoning, LotFrontage, LotArea,\n",
    "# Street, Alley, LotShape, LandContour, Utilities,\n",
    "# LotConfig, LandSlope, Neighborhood, Condition1,\n",
    "# Condition2, BldgType, HouseStyle, OverallQual,\n",
    "# OverallCond, YearBuilt, YearRemodAdd, RoofStyle,\n",
    "# RoofMatl, Exterior1st, Exterior2nd, MasVnrType, MasVnrArea,\n",
    "# ExterQual, ExterCond, Foundation, BsmtQual, BsmtCond,\n",
    "# BsmtExposure, BsmtFinType1, BsmtFinSF1, BsmtFinType2, \n",
    "# BsmtFinSF2, BsmtUnfSF, TotalBsmtSF, Heating, \n",
    "# HeatingQC, CentralAir, Electrical, 1stFlrSF, \n",
    "# 2ndFlrSF, LowQualFinSF, GrLivArea, BsmtFullBath, \n",
    "# BsmtHalfBath, FullBath, HalfBath, BedroomAbvGr, \n",
    "# KitchenAbvGr, KitchenQual, TotRmsAbvGrd, Functional, \n",
    "# Fireplaces, FireplaceQu, GarageType, GarageYrBlt, \n",
    "# GarageFinish, GarageCars, GarageArea, GarageQual, \n",
    "# GarageCond, PavedDrive, WoodDeckSF, OpenPorchSF, \n",
    "# EnclosedPorch, 3SsnPorch, ScreenPorch, PoolArea, \n",
    "# PoolQC, Fence, MiscFeature, MiscVal, MoSold, YrSold,\n",
    "# SaleType, SaleCondition, SalePrice\n",
    "# ---------------------------------------------------------------\n",
    "# HYPOTHESIZED COLUMNS MOST LIKELY TO AFFECT PRICE\n",
    "# LotArea\n",
    "# YearBuilt\n",
    "# BsmtFullBath\n",
    "# BsmtHalfBath\n",
    "# FullBath\n",
    "# HalfBath\n",
    "# BedroomAbvGr\n",
    "\n",
    "# read in dataframe\n",
    "houses = pd.read_csv('data/train.csv', sep=',')\n",
    "\n",
    "# get averages for features\n",
    "one_bedroom = houses[houses['BedroomAbvGr'] == 1].SalePrice.mean()\n",
    "two_bedroom = houses[houses['BedroomAbvGr'] == 2].SalePrice.mean()\n",
    "three_bedroom = houses[houses['BedroomAbvGr'] == 3].SalePrice.mean()\n",
    "four_bedroom = houses[houses['BedroomAbvGr'] == 4].SalePrice.mean()\n",
    "five_bedroom = houses[houses['BedroomAbvGr'] == 5].SalePrice.mean()\n",
    "display(f'  One Bedroom Avg -> {one_bedroom}')\n",
    "display(f'  Two Bedroom Avg -> {two_bedroom}')\n",
    "display(f'Three Bedroom Avg -> {three_bedroom}')\n",
    "display(f' Four Bedroom Avg -> {four_bedroom}')\n",
    "display(f' Five Bedroom Avg -> {five_bedroom}')\n",
    "display('-----------------------------------------------')\n",
    "lot_area_0 = houses[houses['LotArea'].between(0, 5000)].SalePrice.mean()\n",
    "lot_area_1 = houses[houses['LotArea'].between(5000, 10000)].SalePrice.mean()\n",
    "lot_area_2 = houses[houses['LotArea'].between(10000, 15000)].SalePrice.mean()\n",
    "lot_area_3 = houses[houses['LotArea'].between(15000, 20000)].SalePrice.mean()\n",
    "lot_area_4 = houses[houses['LotArea'].between(20000, 30000)].SalePrice.mean()\n",
    "lot_area_5 = houses[houses['LotArea'].between(30000, 40000)].SalePrice.mean()\n",
    "lot_area_6 = houses[houses['LotArea'].between(40000, 50000)].SalePrice.mean()\n",
    "lot_area_7 = houses[houses['LotArea'].between(50000, 75000)].SalePrice.mean()\n",
    "lot_area_8 = houses[houses['LotArea'].between(75000, 100000)].SalePrice.mean()\n",
    "display(f' Lot Area (0,        5000) -> {lot_area_0}')\n",
    "display(f' Lot Area (5000,   10,000) -> {lot_area_1}')\n",
    "display(f' Lot Area (10,000, 15,000) -> {lot_area_2}')\n",
    "display(f' Lot Area (15,000, 20,000) -> {lot_area_3}')\n",
    "display(f' Lot Area (20,000, 30,000) -> {lot_area_4}')\n",
    "display(f' Lot Area (30,000, 40,000) -> {lot_area_5}')\n",
    "display(f' Lot Area (40,000, 50,000) -> {lot_area_6}')\n",
    "display(f' Lot Area (50,000, 75,000) -> {lot_area_7}')\n",
    "display(f' Lot Area (75,000, 100,000) -> {lot_area_8}')\n",
    "display('-----------------------------------------------')\n",
    "one_bathroom = houses[houses['FullBath'] == 1].SalePrice.mean()\n",
    "two_bathroom = houses[houses['FullBath'] == 2].SalePrice.mean()\n",
    "three_bathroom = houses[houses['FullBath'] == 3].SalePrice.mean()\n",
    "four_bathroom = houses[houses['FullBath'] == 4].SalePrice.mean()\n",
    "five_bathroom = houses[houses['FullBath'] == 5].SalePrice.mean()\n",
    "display(f'  One Bathroom Avg -> {one_bathroom}')\n",
    "display(f'  Two Bathroom Avg -> {two_bathroom}')\n",
    "display(f'Three Bathroom Avg -> {three_bathroom}')\n",
    "display(f' Four Bathroom Avg -> {four_bathroom}')\n",
    "display(f' Five Bathroom Avg -> {five_bathroom}')\n",
    "display('-----------------------------------------------')\n",
    "year_built_0 = houses[houses['YearBuilt'].between(1800, 1900)].SalePrice.mean()\n",
    "year_built_1 = houses[houses['YearBuilt'].between(1900, 1925)].SalePrice.mean()\n",
    "year_built_2 = houses[houses['YearBuilt'].between(1925, 1950)].SalePrice.mean()\n",
    "year_built_3 = houses[houses['YearBuilt'].between(1950, 1960)].SalePrice.mean()\n",
    "year_built_4 = houses[houses['YearBuilt'].between(1960, 1970)].SalePrice.mean()\n",
    "year_built_5 = houses[houses['YearBuilt'].between(1970, 1980)].SalePrice.mean()\n",
    "year_built_6 = houses[houses['YearBuilt'].between(1980, 1990)].SalePrice.mean()\n",
    "year_built_7 = houses[houses['YearBuilt'].between(1990, 2000)].SalePrice.mean()\n",
    "year_built_8 = houses[houses['YearBuilt'].between(2000, 2010)].SalePrice.mean()\n",
    "year_built_9 = houses[houses['YearBuilt'].between(2010, 2020)].SalePrice.mean()\n",
    "display(f' Year Built (1800, 1900) -> {year_built_0}')\n",
    "display(f' Year Built (1900, 1925) -> {year_built_1}')\n",
    "display(f' Year Built (1925, 1950) -> {year_built_2}')\n",
    "display(f' Year Built (1950, 1960) -> {year_built_3}')\n",
    "display(f' Year Built (1960, 1970) -> {year_built_4}')\n",
    "display(f' Year Built (1970, 1980) -> {year_built_5}')\n",
    "display(f' Year Built (1980, 1990) -> {year_built_6}')\n",
    "display(f' Year Built (1990, 2000) -> {year_built_7}')\n",
    "display(f' Year Built (2000, 2010) -> {year_built_8}')\n",
    "display(f' Year Built (2010, 2020) -> {year_built_9}')\n",
    "\n",
    "\n"
   ]
  },
  {
   "cell_type": "code",
   "execution_count": null,
   "id": "6a078f5d-72e0-446e-ba28-1c83be3b62b2",
   "metadata": {},
   "outputs": [],
   "source": []
  }
 ],
 "metadata": {
  "kernelspec": {
   "display_name": "Python 3 (ipykernel)",
   "language": "python",
   "name": "python3"
  },
  "language_info": {
   "codemirror_mode": {
    "name": "ipython",
    "version": 3
   },
   "file_extension": ".py",
   "mimetype": "text/x-python",
   "name": "python",
   "nbconvert_exporter": "python",
   "pygments_lexer": "ipython3",
   "version": "3.11.2"
  }
 },
 "nbformat": 4,
 "nbformat_minor": 5
}
